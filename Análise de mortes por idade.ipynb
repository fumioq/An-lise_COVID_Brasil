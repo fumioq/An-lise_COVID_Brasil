{
 "cells": [
  {
   "cell_type": "code",
   "execution_count": 2,
   "metadata": {},
   "outputs": [],
   "source": [
    "import pandas as pd\n",
    "import matplotlib.pyplot as plt\n",
    "%matplotlib inline\n",
    "import numpy as np\n",
    "import sys\n",
    "np.set_printoptions(threshold=sys.maxsize)"
   ]
  },
  {
   "cell_type": "code",
   "execution_count": 3,
   "metadata": {
    "scrolled": true
   },
   "outputs": [
    {
     "name": "stderr",
     "output_type": "stream",
     "text": [
      "C:\\Users\\fumio\\Anaconda3\\lib\\site-packages\\IPython\\core\\interactiveshell.py:3146: DtypeWarning: Columns (15,60,62,63,64,92,94,106,108,115,117,118,119,123) have mixed types.Specify dtype option on import or set low_memory=False.\n",
      "  has_raised = await self.run_ast_nodes(code_ast.body, cell_name,\n"
     ]
    }
   ],
   "source": [
    "import io\n",
    "import requests\n",
    "url=\"https://s3-sa-east-1.amazonaws.com/ckan.saude.gov.br/SRAG/2020/INFLUD-14-06-2021.csv\"\n",
    "s=requests.get(url).content\n",
    "df=pd.read_csv(io.StringIO(s.decode('utf-8')),sep= ';')"
   ]
  },
  {
   "cell_type": "code",
   "execution_count": 4,
   "metadata": {},
   "outputs": [
    {
     "name": "stderr",
     "output_type": "stream",
     "text": [
      "C:\\Users\\fumio\\Anaconda3\\lib\\site-packages\\IPython\\core\\interactiveshell.py:3146: DtypeWarning: Columns (15,18,60,62,63,64,92,94,106,108,115,117,118,119,123,144,160) have mixed types.Specify dtype option on import or set low_memory=False.\n",
      "  has_raised = await self.run_ast_nodes(code_ast.body, cell_name,\n"
     ]
    }
   ],
   "source": [
    "url = \"https://s3-sa-east-1.amazonaws.com/ckan.saude.gov.br/SRAG/2021/INFLUD21-14-06-2021.csv\"\n",
    "s = requests.get(url).content\n",
    "df1=pd.read_csv(io.StringIO(s.decode('utf-8')),sep= \";\")"
   ]
  },
  {
   "cell_type": "code",
   "execution_count": 5,
   "metadata": {
    "scrolled": false
   },
   "outputs": [
    {
     "data": {
      "text/plain": [
       "(1195427, 154)"
      ]
     },
     "execution_count": 5,
     "metadata": {},
     "output_type": "execute_result"
    }
   ],
   "source": [
    "df.shape"
   ]
  },
  {
   "cell_type": "code",
   "execution_count": 6,
   "metadata": {},
   "outputs": [
    {
     "data": {
      "text/plain": [
       "(1034181, 162)"
      ]
     },
     "execution_count": 6,
     "metadata": {},
     "output_type": "execute_result"
    }
   ],
   "source": [
    "df1.shape"
   ]
  },
  {
   "cell_type": "code",
   "execution_count": 7,
   "metadata": {},
   "outputs": [],
   "source": [
    "df.rename(str.lower, axis='columns', inplace=True)"
   ]
  },
  {
   "cell_type": "code",
   "execution_count": 8,
   "metadata": {},
   "outputs": [],
   "source": [
    "df1.rename(str.lower, axis = 'columns', inplace=True)"
   ]
  },
  {
   "cell_type": "code",
   "execution_count": 9,
   "metadata": {
    "scrolled": true
   },
   "outputs": [
    {
     "name": "stdout",
     "output_type": "stream",
     "text": [
      "(1195427, 9)\n"
     ]
    }
   ],
   "source": [
    "dados_filtrados = df[['nu_idade_n','dt_notific','dt_nasc','pcr_sars2','classi_fin', 'hospital' , 'uti', 'evolucao', 'dt_evoluca']]\n",
    "\n",
    "\n",
    "dados_filtrados.head(15)\n",
    "print(dados_filtrados.shape)"
   ]
  },
  {
   "cell_type": "code",
   "execution_count": 10,
   "metadata": {},
   "outputs": [
    {
     "name": "stdout",
     "output_type": "stream",
     "text": [
      "(1034181, 9)\n"
     ]
    }
   ],
   "source": [
    "dados_filtrados1 = df1[['nu_idade_n','dt_notific','dt_nasc','pcr_sars2','classi_fin', 'hospital' , 'uti', 'evolucao', 'dt_evoluca']]\n",
    "\n",
    "\n",
    "dados_filtrados1.head(15)\n",
    "print(dados_filtrados1.shape)"
   ]
  },
  {
   "cell_type": "code",
   "execution_count": 11,
   "metadata": {},
   "outputs": [],
   "source": [
    "dados_filtrados = pd.concat([dados_filtrados,dados_filtrados1])"
   ]
  },
  {
   "cell_type": "code",
   "execution_count": 12,
   "metadata": {},
   "outputs": [
    {
     "name": "stdout",
     "output_type": "stream",
     "text": [
      "(2229608, 9)\n"
     ]
    }
   ],
   "source": [
    "print(dados_filtrados.shape)"
   ]
  },
  {
   "cell_type": "code",
   "execution_count": 13,
   "metadata": {},
   "outputs": [],
   "source": [
    "dados_filtrados = dados_filtrados.query('classi_fin == 5')"
   ]
  },
  {
   "cell_type": "code",
   "execution_count": 14,
   "metadata": {},
   "outputs": [
    {
     "name": "stdout",
     "output_type": "stream",
     "text": [
      "(1431694, 9)\n"
     ]
    }
   ],
   "source": [
    "print(dados_filtrados.shape)"
   ]
  },
  {
   "cell_type": "code",
   "execution_count": 15,
   "metadata": {
    "scrolled": true
   },
   "outputs": [
    {
     "name": "stdout",
     "output_type": "stream",
     "text": [
      "<class 'pandas.core.frame.DataFrame'>\n",
      "Int64Index: 1431694 entries, 25 to 1034180\n",
      "Data columns (total 9 columns):\n",
      " #   Column      Non-Null Count    Dtype  \n",
      "---  ------      --------------    -----  \n",
      " 0   nu_idade_n  1431694 non-null  int64  \n",
      " 1   dt_notific  1431694 non-null  object \n",
      " 2   dt_nasc     1430086 non-null  object \n",
      " 3   pcr_sars2   928003 non-null   float64\n",
      " 4   classi_fin  1431694 non-null  float64\n",
      " 5   hospital    1397958 non-null  float64\n",
      " 6   uti         1251890 non-null  float64\n",
      " 7   evolucao    1278983 non-null  float64\n",
      " 8   dt_evoluca  1187049 non-null  object \n",
      "dtypes: float64(5), int64(1), object(3)\n",
      "memory usage: 109.2+ MB\n"
     ]
    }
   ],
   "source": [
    "dados_filtrados.info()"
   ]
  },
  {
   "cell_type": "code",
   "execution_count": 16,
   "metadata": {
    "scrolled": true
   },
   "outputs": [
    {
     "data": {
      "text/plain": [
       "(1187049, 9)"
      ]
     },
     "execution_count": 16,
     "metadata": {},
     "output_type": "execute_result"
    }
   ],
   "source": [
    "selection = dados_filtrados['dt_evoluca'].notna()\n",
    "dados_filtrados = dados_filtrados[selection]\n",
    "dados_filtrados.shape"
   ]
  },
  {
   "cell_type": "code",
   "execution_count": 17,
   "metadata": {},
   "outputs": [
    {
     "data": {
      "text/plain": [
       "(459127, 9)"
      ]
     },
     "execution_count": 17,
     "metadata": {},
     "output_type": "execute_result"
    }
   ],
   "source": [
    "dados_filtrados = dados_filtrados.query('evolucao ==2')\n",
    "dados_filtrados.shape"
   ]
  },
  {
   "cell_type": "code",
   "execution_count": 18,
   "metadata": {},
   "outputs": [
    {
     "data": {
      "text/html": [
       "<div>\n",
       "<style scoped>\n",
       "    .dataframe tbody tr th:only-of-type {\n",
       "        vertical-align: middle;\n",
       "    }\n",
       "\n",
       "    .dataframe tbody tr th {\n",
       "        vertical-align: top;\n",
       "    }\n",
       "\n",
       "    .dataframe thead th {\n",
       "        text-align: right;\n",
       "    }\n",
       "</style>\n",
       "<table border=\"1\" class=\"dataframe\">\n",
       "  <thead>\n",
       "    <tr style=\"text-align: right;\">\n",
       "      <th></th>\n",
       "      <th>nu_idade_n</th>\n",
       "      <th>dt_notific</th>\n",
       "      <th>dt_nasc</th>\n",
       "      <th>pcr_sars2</th>\n",
       "      <th>classi_fin</th>\n",
       "      <th>hospital</th>\n",
       "      <th>uti</th>\n",
       "      <th>evolucao</th>\n",
       "      <th>dt_evoluca</th>\n",
       "    </tr>\n",
       "  </thead>\n",
       "  <tbody>\n",
       "    <tr>\n",
       "      <th>3736</th>\n",
       "      <td>105</td>\n",
       "      <td>18/07/2020</td>\n",
       "      <td>06/05/1915</td>\n",
       "      <td>1.0</td>\n",
       "      <td>5.0</td>\n",
       "      <td>2.0</td>\n",
       "      <td>NaN</td>\n",
       "      <td>2.0</td>\n",
       "      <td>27/07/2020</td>\n",
       "    </tr>\n",
       "    <tr>\n",
       "      <th>3775</th>\n",
       "      <td>102</td>\n",
       "      <td>20/07/2020</td>\n",
       "      <td>20/06/1918</td>\n",
       "      <td>1.0</td>\n",
       "      <td>5.0</td>\n",
       "      <td>1.0</td>\n",
       "      <td>1.0</td>\n",
       "      <td>2.0</td>\n",
       "      <td>21/07/2020</td>\n",
       "    </tr>\n",
       "    <tr>\n",
       "      <th>5634</th>\n",
       "      <td>105</td>\n",
       "      <td>08/08/2020</td>\n",
       "      <td>12/05/1915</td>\n",
       "      <td>1.0</td>\n",
       "      <td>5.0</td>\n",
       "      <td>1.0</td>\n",
       "      <td>2.0</td>\n",
       "      <td>2.0</td>\n",
       "      <td>08/08/2020</td>\n",
       "    </tr>\n",
       "    <tr>\n",
       "      <th>7359</th>\n",
       "      <td>101</td>\n",
       "      <td>05/10/2020</td>\n",
       "      <td>16/06/1919</td>\n",
       "      <td>NaN</td>\n",
       "      <td>5.0</td>\n",
       "      <td>1.0</td>\n",
       "      <td>1.0</td>\n",
       "      <td>2.0</td>\n",
       "      <td>07/10/2020</td>\n",
       "    </tr>\n",
       "    <tr>\n",
       "      <th>10598</th>\n",
       "      <td>101</td>\n",
       "      <td>15/05/2020</td>\n",
       "      <td>27/08/1918</td>\n",
       "      <td>1.0</td>\n",
       "      <td>5.0</td>\n",
       "      <td>2.0</td>\n",
       "      <td>NaN</td>\n",
       "      <td>2.0</td>\n",
       "      <td>15/05/2020</td>\n",
       "    </tr>\n",
       "    <tr>\n",
       "      <th>...</th>\n",
       "      <td>...</td>\n",
       "      <td>...</td>\n",
       "      <td>...</td>\n",
       "      <td>...</td>\n",
       "      <td>...</td>\n",
       "      <td>...</td>\n",
       "      <td>...</td>\n",
       "      <td>...</td>\n",
       "      <td>...</td>\n",
       "    </tr>\n",
       "    <tr>\n",
       "      <th>1018545</th>\n",
       "      <td>102</td>\n",
       "      <td>22/03/2021</td>\n",
       "      <td>15/08/1918</td>\n",
       "      <td>1.0</td>\n",
       "      <td>5.0</td>\n",
       "      <td>2.0</td>\n",
       "      <td>NaN</td>\n",
       "      <td>2.0</td>\n",
       "      <td>07/04/2021</td>\n",
       "    </tr>\n",
       "    <tr>\n",
       "      <th>1019030</th>\n",
       "      <td>108</td>\n",
       "      <td>19/03/2021</td>\n",
       "      <td>07/05/1912</td>\n",
       "      <td>NaN</td>\n",
       "      <td>5.0</td>\n",
       "      <td>1.0</td>\n",
       "      <td>NaN</td>\n",
       "      <td>2.0</td>\n",
       "      <td>28/03/2021</td>\n",
       "    </tr>\n",
       "    <tr>\n",
       "      <th>1021623</th>\n",
       "      <td>105</td>\n",
       "      <td>09/04/2021</td>\n",
       "      <td>09/01/1916</td>\n",
       "      <td>1.0</td>\n",
       "      <td>5.0</td>\n",
       "      <td>1.0</td>\n",
       "      <td>1.0</td>\n",
       "      <td>2.0</td>\n",
       "      <td>04/05/2021</td>\n",
       "    </tr>\n",
       "    <tr>\n",
       "      <th>1026445</th>\n",
       "      <td>103</td>\n",
       "      <td>26/04/2021</td>\n",
       "      <td>25/03/1918</td>\n",
       "      <td>1.0</td>\n",
       "      <td>5.0</td>\n",
       "      <td>1.0</td>\n",
       "      <td>2.0</td>\n",
       "      <td>2.0</td>\n",
       "      <td>28/04/2021</td>\n",
       "    </tr>\n",
       "    <tr>\n",
       "      <th>1030912</th>\n",
       "      <td>101</td>\n",
       "      <td>21/05/2021</td>\n",
       "      <td>05/04/1920</td>\n",
       "      <td>NaN</td>\n",
       "      <td>5.0</td>\n",
       "      <td>1.0</td>\n",
       "      <td>2.0</td>\n",
       "      <td>2.0</td>\n",
       "      <td>24/05/2021</td>\n",
       "    </tr>\n",
       "  </tbody>\n",
       "</table>\n",
       "<p>818 rows × 9 columns</p>\n",
       "</div>"
      ],
      "text/plain": [
       "         nu_idade_n  dt_notific     dt_nasc  pcr_sars2  classi_fin  hospital  \\\n",
       "3736            105  18/07/2020  06/05/1915        1.0         5.0       2.0   \n",
       "3775            102  20/07/2020  20/06/1918        1.0         5.0       1.0   \n",
       "5634            105  08/08/2020  12/05/1915        1.0         5.0       1.0   \n",
       "7359            101  05/10/2020  16/06/1919        NaN         5.0       1.0   \n",
       "10598           101  15/05/2020  27/08/1918        1.0         5.0       2.0   \n",
       "...             ...         ...         ...        ...         ...       ...   \n",
       "1018545         102  22/03/2021  15/08/1918        1.0         5.0       2.0   \n",
       "1019030         108  19/03/2021  07/05/1912        NaN         5.0       1.0   \n",
       "1021623         105  09/04/2021  09/01/1916        1.0         5.0       1.0   \n",
       "1026445         103  26/04/2021  25/03/1918        1.0         5.0       1.0   \n",
       "1030912         101  21/05/2021  05/04/1920        NaN         5.0       1.0   \n",
       "\n",
       "         uti  evolucao  dt_evoluca  \n",
       "3736     NaN       2.0  27/07/2020  \n",
       "3775     1.0       2.0  21/07/2020  \n",
       "5634     2.0       2.0  08/08/2020  \n",
       "7359     1.0       2.0  07/10/2020  \n",
       "10598    NaN       2.0  15/05/2020  \n",
       "...      ...       ...         ...  \n",
       "1018545  NaN       2.0  07/04/2021  \n",
       "1019030  NaN       2.0  28/03/2021  \n",
       "1021623  1.0       2.0  04/05/2021  \n",
       "1026445  2.0       2.0  28/04/2021  \n",
       "1030912  2.0       2.0  24/05/2021  \n",
       "\n",
       "[818 rows x 9 columns]"
      ]
     },
     "execution_count": 18,
     "metadata": {},
     "output_type": "execute_result"
    }
   ],
   "source": [
    "dados_filtrados.query('nu_idade_n > 100')"
   ]
  },
  {
   "cell_type": "code",
   "execution_count": 19,
   "metadata": {},
   "outputs": [],
   "source": [
    "dados_filtrados.reset_index(inplace=True)"
   ]
  },
  {
   "cell_type": "code",
   "execution_count": 20,
   "metadata": {
    "scrolled": true
   },
   "outputs": [
    {
     "data": {
      "text/html": [
       "<div>\n",
       "<style scoped>\n",
       "    .dataframe tbody tr th:only-of-type {\n",
       "        vertical-align: middle;\n",
       "    }\n",
       "\n",
       "    .dataframe tbody tr th {\n",
       "        vertical-align: top;\n",
       "    }\n",
       "\n",
       "    .dataframe thead th {\n",
       "        text-align: right;\n",
       "    }\n",
       "</style>\n",
       "<table border=\"1\" class=\"dataframe\">\n",
       "  <thead>\n",
       "    <tr style=\"text-align: right;\">\n",
       "      <th></th>\n",
       "      <th>index</th>\n",
       "      <th>nu_idade_n</th>\n",
       "      <th>dt_notific</th>\n",
       "      <th>dt_nasc</th>\n",
       "      <th>pcr_sars2</th>\n",
       "      <th>classi_fin</th>\n",
       "      <th>hospital</th>\n",
       "      <th>uti</th>\n",
       "      <th>evolucao</th>\n",
       "      <th>dt_evoluca</th>\n",
       "    </tr>\n",
       "  </thead>\n",
       "  <tbody>\n",
       "    <tr>\n",
       "      <th>0</th>\n",
       "      <td>25</td>\n",
       "      <td>69</td>\n",
       "      <td>30/03/2020</td>\n",
       "      <td>18/01/1951</td>\n",
       "      <td>1.0</td>\n",
       "      <td>5.0</td>\n",
       "      <td>1.0</td>\n",
       "      <td>2.0</td>\n",
       "      <td>2.0</td>\n",
       "      <td>08/04/2020</td>\n",
       "    </tr>\n",
       "    <tr>\n",
       "      <th>1</th>\n",
       "      <td>37</td>\n",
       "      <td>88</td>\n",
       "      <td>22/03/2020</td>\n",
       "      <td>18/04/1931</td>\n",
       "      <td>1.0</td>\n",
       "      <td>5.0</td>\n",
       "      <td>1.0</td>\n",
       "      <td>NaN</td>\n",
       "      <td>2.0</td>\n",
       "      <td>20/03/2020</td>\n",
       "    </tr>\n",
       "    <tr>\n",
       "      <th>2</th>\n",
       "      <td>53</td>\n",
       "      <td>54</td>\n",
       "      <td>20/03/2020</td>\n",
       "      <td>16/11/1965</td>\n",
       "      <td>1.0</td>\n",
       "      <td>5.0</td>\n",
       "      <td>1.0</td>\n",
       "      <td>1.0</td>\n",
       "      <td>2.0</td>\n",
       "      <td>29/03/2020</td>\n",
       "    </tr>\n",
       "    <tr>\n",
       "      <th>3</th>\n",
       "      <td>61</td>\n",
       "      <td>77</td>\n",
       "      <td>21/03/2020</td>\n",
       "      <td>20/01/1943</td>\n",
       "      <td>1.0</td>\n",
       "      <td>5.0</td>\n",
       "      <td>1.0</td>\n",
       "      <td>1.0</td>\n",
       "      <td>2.0</td>\n",
       "      <td>02/04/2020</td>\n",
       "    </tr>\n",
       "    <tr>\n",
       "      <th>4</th>\n",
       "      <td>73</td>\n",
       "      <td>18</td>\n",
       "      <td>23/03/2020</td>\n",
       "      <td>22/05/2001</td>\n",
       "      <td>1.0</td>\n",
       "      <td>5.0</td>\n",
       "      <td>1.0</td>\n",
       "      <td>1.0</td>\n",
       "      <td>2.0</td>\n",
       "      <td>02/05/2020</td>\n",
       "    </tr>\n",
       "  </tbody>\n",
       "</table>\n",
       "</div>"
      ],
      "text/plain": [
       "   index  nu_idade_n  dt_notific     dt_nasc  pcr_sars2  classi_fin  hospital  \\\n",
       "0     25          69  30/03/2020  18/01/1951        1.0         5.0       1.0   \n",
       "1     37          88  22/03/2020  18/04/1931        1.0         5.0       1.0   \n",
       "2     53          54  20/03/2020  16/11/1965        1.0         5.0       1.0   \n",
       "3     61          77  21/03/2020  20/01/1943        1.0         5.0       1.0   \n",
       "4     73          18  23/03/2020  22/05/2001        1.0         5.0       1.0   \n",
       "\n",
       "   uti  evolucao  dt_evoluca  \n",
       "0  2.0       2.0  08/04/2020  \n",
       "1  NaN       2.0  20/03/2020  \n",
       "2  1.0       2.0  29/03/2020  \n",
       "3  1.0       2.0  02/04/2020  \n",
       "4  1.0       2.0  02/05/2020  "
      ]
     },
     "execution_count": 20,
     "metadata": {},
     "output_type": "execute_result"
    }
   ],
   "source": [
    "dados_filtrados.head()"
   ]
  },
  {
   "cell_type": "code",
   "execution_count": 21,
   "metadata": {},
   "outputs": [],
   "source": [
    "# for i in range(0,dados_filtrados.shape[0]):\n",
    "#     dados_filtrados.dt_evoluca[i] = dados_filtrados.dt_evoluca[i][3:6]+dados_filtrados.dt_evoluca[i][0:3]+dados_filtrados.dt_evoluca[i][6:10]"
   ]
  },
  {
   "cell_type": "code",
   "execution_count": 22,
   "metadata": {},
   "outputs": [],
   "source": [
    "#dados_filtrados.dt_evoluca = dados_filtrados.dt_evoluca.astype('datetime64[ns]')\n",
    "\n",
    "#12:30 de processamento para 304000 linhas\n",
    "#40:30 de processamento para 551805 linhas"
   ]
  },
  {
   "cell_type": "code",
   "execution_count": 23,
   "metadata": {
    "scrolled": true
   },
   "outputs": [
    {
     "name": "stderr",
     "output_type": "stream",
     "text": [
      "<ipython-input-23-4d2d37c58973>:4: SettingWithCopyWarning: \n",
      "A value is trying to be set on a copy of a slice from a DataFrame\n",
      "\n",
      "See the caveats in the documentation: https://pandas.pydata.org/pandas-docs/stable/user_guide/indexing.html#returning-a-view-versus-a-copy\n",
      "  dados_filtrados.dt_evoluca[i] = datetime.strptime(dados_filtrados.dt_evoluca[i], '%d/%m/%Y')\n"
     ]
    }
   ],
   "source": [
    "from datetime import datetime\n",
    "\n",
    "for i in range(0,dados_filtrados.shape[0]):\n",
    "     dados_filtrados.dt_evoluca[i] = datetime.strptime(dados_filtrados.dt_evoluca[i], '%d/%m/%Y')"
   ]
  },
  {
   "cell_type": "code",
   "execution_count": 24,
   "metadata": {},
   "outputs": [
    {
     "data": {
      "text/html": [
       "<div>\n",
       "<style scoped>\n",
       "    .dataframe tbody tr th:only-of-type {\n",
       "        vertical-align: middle;\n",
       "    }\n",
       "\n",
       "    .dataframe tbody tr th {\n",
       "        vertical-align: top;\n",
       "    }\n",
       "\n",
       "    .dataframe thead th {\n",
       "        text-align: right;\n",
       "    }\n",
       "</style>\n",
       "<table border=\"1\" class=\"dataframe\">\n",
       "  <thead>\n",
       "    <tr style=\"text-align: right;\">\n",
       "      <th></th>\n",
       "      <th>index</th>\n",
       "      <th>nu_idade_n</th>\n",
       "      <th>pcr_sars2</th>\n",
       "      <th>classi_fin</th>\n",
       "      <th>hospital</th>\n",
       "      <th>uti</th>\n",
       "      <th>evolucao</th>\n",
       "    </tr>\n",
       "  </thead>\n",
       "  <tbody>\n",
       "    <tr>\n",
       "      <th>count</th>\n",
       "      <td>4.591270e+05</td>\n",
       "      <td>459127.000000</td>\n",
       "      <td>303651.0</td>\n",
       "      <td>459127.0</td>\n",
       "      <td>445005.000000</td>\n",
       "      <td>399264.000000</td>\n",
       "      <td>459127.0</td>\n",
       "    </tr>\n",
       "    <tr>\n",
       "      <th>mean</th>\n",
       "      <td>5.558977e+05</td>\n",
       "      <td>66.676046</td>\n",
       "      <td>1.0</td>\n",
       "      <td>5.0</td>\n",
       "      <td>1.059127</td>\n",
       "      <td>1.560977</td>\n",
       "      <td>2.0</td>\n",
       "    </tr>\n",
       "    <tr>\n",
       "      <th>std</th>\n",
       "      <td>3.245567e+05</td>\n",
       "      <td>15.624576</td>\n",
       "      <td>0.0</td>\n",
       "      <td>0.0</td>\n",
       "      <td>0.508170</td>\n",
       "      <td>1.308588</td>\n",
       "      <td>0.0</td>\n",
       "    </tr>\n",
       "    <tr>\n",
       "      <th>min</th>\n",
       "      <td>1.300000e+01</td>\n",
       "      <td>0.000000</td>\n",
       "      <td>1.0</td>\n",
       "      <td>5.0</td>\n",
       "      <td>1.000000</td>\n",
       "      <td>1.000000</td>\n",
       "      <td>2.0</td>\n",
       "    </tr>\n",
       "    <tr>\n",
       "      <th>25%</th>\n",
       "      <td>2.752520e+05</td>\n",
       "      <td>57.000000</td>\n",
       "      <td>1.0</td>\n",
       "      <td>5.0</td>\n",
       "      <td>1.000000</td>\n",
       "      <td>1.000000</td>\n",
       "      <td>2.0</td>\n",
       "    </tr>\n",
       "    <tr>\n",
       "      <th>50%</th>\n",
       "      <td>5.524020e+05</td>\n",
       "      <td>68.000000</td>\n",
       "      <td>1.0</td>\n",
       "      <td>5.0</td>\n",
       "      <td>1.000000</td>\n",
       "      <td>1.000000</td>\n",
       "      <td>2.0</td>\n",
       "    </tr>\n",
       "    <tr>\n",
       "      <th>75%</th>\n",
       "      <td>8.300055e+05</td>\n",
       "      <td>78.000000</td>\n",
       "      <td>1.0</td>\n",
       "      <td>5.0</td>\n",
       "      <td>1.000000</td>\n",
       "      <td>2.000000</td>\n",
       "      <td>2.0</td>\n",
       "    </tr>\n",
       "    <tr>\n",
       "      <th>max</th>\n",
       "      <td>1.195415e+06</td>\n",
       "      <td>127.000000</td>\n",
       "      <td>1.0</td>\n",
       "      <td>5.0</td>\n",
       "      <td>9.000000</td>\n",
       "      <td>9.000000</td>\n",
       "      <td>2.0</td>\n",
       "    </tr>\n",
       "  </tbody>\n",
       "</table>\n",
       "</div>"
      ],
      "text/plain": [
       "              index     nu_idade_n  pcr_sars2  classi_fin       hospital  \\\n",
       "count  4.591270e+05  459127.000000   303651.0    459127.0  445005.000000   \n",
       "mean   5.558977e+05      66.676046        1.0         5.0       1.059127   \n",
       "std    3.245567e+05      15.624576        0.0         0.0       0.508170   \n",
       "min    1.300000e+01       0.000000        1.0         5.0       1.000000   \n",
       "25%    2.752520e+05      57.000000        1.0         5.0       1.000000   \n",
       "50%    5.524020e+05      68.000000        1.0         5.0       1.000000   \n",
       "75%    8.300055e+05      78.000000        1.0         5.0       1.000000   \n",
       "max    1.195415e+06     127.000000        1.0         5.0       9.000000   \n",
       "\n",
       "                 uti  evolucao  \n",
       "count  399264.000000  459127.0  \n",
       "mean        1.560977       2.0  \n",
       "std         1.308588       0.0  \n",
       "min         1.000000       2.0  \n",
       "25%         1.000000       2.0  \n",
       "50%         1.000000       2.0  \n",
       "75%         2.000000       2.0  \n",
       "max         9.000000       2.0  "
      ]
     },
     "execution_count": 24,
     "metadata": {},
     "output_type": "execute_result"
    }
   ],
   "source": [
    "dados_filtrados.describe()"
   ]
  },
  {
   "cell_type": "code",
   "execution_count": 25,
   "metadata": {
    "scrolled": false
   },
   "outputs": [
    {
     "data": {
      "text/html": [
       "<div>\n",
       "<style scoped>\n",
       "    .dataframe tbody tr th:only-of-type {\n",
       "        vertical-align: middle;\n",
       "    }\n",
       "\n",
       "    .dataframe tbody tr th {\n",
       "        vertical-align: top;\n",
       "    }\n",
       "\n",
       "    .dataframe thead th {\n",
       "        text-align: right;\n",
       "    }\n",
       "</style>\n",
       "<table border=\"1\" class=\"dataframe\">\n",
       "  <thead>\n",
       "    <tr style=\"text-align: right;\">\n",
       "      <th></th>\n",
       "      <th>index</th>\n",
       "      <th>nu_idade_n</th>\n",
       "      <th>dt_notific</th>\n",
       "      <th>dt_nasc</th>\n",
       "      <th>pcr_sars2</th>\n",
       "      <th>classi_fin</th>\n",
       "      <th>hospital</th>\n",
       "      <th>uti</th>\n",
       "      <th>evolucao</th>\n",
       "    </tr>\n",
       "    <tr>\n",
       "      <th>dt_evoluca</th>\n",
       "      <th></th>\n",
       "      <th></th>\n",
       "      <th></th>\n",
       "      <th></th>\n",
       "      <th></th>\n",
       "      <th></th>\n",
       "      <th></th>\n",
       "      <th></th>\n",
       "      <th></th>\n",
       "    </tr>\n",
       "  </thead>\n",
       "  <tbody>\n",
       "    <tr>\n",
       "      <th>2020-04-08</th>\n",
       "      <td>25</td>\n",
       "      <td>69</td>\n",
       "      <td>30/03/2020</td>\n",
       "      <td>18/01/1951</td>\n",
       "      <td>1.0</td>\n",
       "      <td>5.0</td>\n",
       "      <td>1.0</td>\n",
       "      <td>2.0</td>\n",
       "      <td>2.0</td>\n",
       "    </tr>\n",
       "    <tr>\n",
       "      <th>2020-03-20</th>\n",
       "      <td>37</td>\n",
       "      <td>88</td>\n",
       "      <td>22/03/2020</td>\n",
       "      <td>18/04/1931</td>\n",
       "      <td>1.0</td>\n",
       "      <td>5.0</td>\n",
       "      <td>1.0</td>\n",
       "      <td>NaN</td>\n",
       "      <td>2.0</td>\n",
       "    </tr>\n",
       "    <tr>\n",
       "      <th>2020-03-29</th>\n",
       "      <td>53</td>\n",
       "      <td>54</td>\n",
       "      <td>20/03/2020</td>\n",
       "      <td>16/11/1965</td>\n",
       "      <td>1.0</td>\n",
       "      <td>5.0</td>\n",
       "      <td>1.0</td>\n",
       "      <td>1.0</td>\n",
       "      <td>2.0</td>\n",
       "    </tr>\n",
       "    <tr>\n",
       "      <th>2020-04-02</th>\n",
       "      <td>61</td>\n",
       "      <td>77</td>\n",
       "      <td>21/03/2020</td>\n",
       "      <td>20/01/1943</td>\n",
       "      <td>1.0</td>\n",
       "      <td>5.0</td>\n",
       "      <td>1.0</td>\n",
       "      <td>1.0</td>\n",
       "      <td>2.0</td>\n",
       "    </tr>\n",
       "    <tr>\n",
       "      <th>2020-05-02</th>\n",
       "      <td>73</td>\n",
       "      <td>18</td>\n",
       "      <td>23/03/2020</td>\n",
       "      <td>22/05/2001</td>\n",
       "      <td>1.0</td>\n",
       "      <td>5.0</td>\n",
       "      <td>1.0</td>\n",
       "      <td>1.0</td>\n",
       "      <td>2.0</td>\n",
       "    </tr>\n",
       "    <tr>\n",
       "      <th>...</th>\n",
       "      <td>...</td>\n",
       "      <td>...</td>\n",
       "      <td>...</td>\n",
       "      <td>...</td>\n",
       "      <td>...</td>\n",
       "      <td>...</td>\n",
       "      <td>...</td>\n",
       "      <td>...</td>\n",
       "      <td>...</td>\n",
       "    </tr>\n",
       "    <tr>\n",
       "      <th>2021-05-28</th>\n",
       "      <td>1034164</td>\n",
       "      <td>46</td>\n",
       "      <td>17/05/2021</td>\n",
       "      <td>11/11/1974</td>\n",
       "      <td>1.0</td>\n",
       "      <td>5.0</td>\n",
       "      <td>1.0</td>\n",
       "      <td>1.0</td>\n",
       "      <td>2.0</td>\n",
       "    </tr>\n",
       "    <tr>\n",
       "      <th>2021-05-29</th>\n",
       "      <td>1034169</td>\n",
       "      <td>66</td>\n",
       "      <td>25/05/2021</td>\n",
       "      <td>09/08/1954</td>\n",
       "      <td>NaN</td>\n",
       "      <td>5.0</td>\n",
       "      <td>1.0</td>\n",
       "      <td>2.0</td>\n",
       "      <td>2.0</td>\n",
       "    </tr>\n",
       "    <tr>\n",
       "      <th>2021-05-19</th>\n",
       "      <td>1034175</td>\n",
       "      <td>96</td>\n",
       "      <td>14/05/2021</td>\n",
       "      <td>29/07/1924</td>\n",
       "      <td>1.0</td>\n",
       "      <td>5.0</td>\n",
       "      <td>1.0</td>\n",
       "      <td>1.0</td>\n",
       "      <td>2.0</td>\n",
       "    </tr>\n",
       "    <tr>\n",
       "      <th>2021-05-31</th>\n",
       "      <td>1034178</td>\n",
       "      <td>68</td>\n",
       "      <td>30/05/2021</td>\n",
       "      <td>02/10/1952</td>\n",
       "      <td>1.0</td>\n",
       "      <td>5.0</td>\n",
       "      <td>1.0</td>\n",
       "      <td>1.0</td>\n",
       "      <td>2.0</td>\n",
       "    </tr>\n",
       "    <tr>\n",
       "      <th>2021-05-25</th>\n",
       "      <td>1034179</td>\n",
       "      <td>73</td>\n",
       "      <td>19/05/2021</td>\n",
       "      <td>14/03/1948</td>\n",
       "      <td>1.0</td>\n",
       "      <td>5.0</td>\n",
       "      <td>1.0</td>\n",
       "      <td>2.0</td>\n",
       "      <td>2.0</td>\n",
       "    </tr>\n",
       "  </tbody>\n",
       "</table>\n",
       "<p>459127 rows × 9 columns</p>\n",
       "</div>"
      ],
      "text/plain": [
       "              index  nu_idade_n  dt_notific     dt_nasc  pcr_sars2  \\\n",
       "dt_evoluca                                                           \n",
       "2020-04-08       25          69  30/03/2020  18/01/1951        1.0   \n",
       "2020-03-20       37          88  22/03/2020  18/04/1931        1.0   \n",
       "2020-03-29       53          54  20/03/2020  16/11/1965        1.0   \n",
       "2020-04-02       61          77  21/03/2020  20/01/1943        1.0   \n",
       "2020-05-02       73          18  23/03/2020  22/05/2001        1.0   \n",
       "...             ...         ...         ...         ...        ...   \n",
       "2021-05-28  1034164          46  17/05/2021  11/11/1974        1.0   \n",
       "2021-05-29  1034169          66  25/05/2021  09/08/1954        NaN   \n",
       "2021-05-19  1034175          96  14/05/2021  29/07/1924        1.0   \n",
       "2021-05-31  1034178          68  30/05/2021  02/10/1952        1.0   \n",
       "2021-05-25  1034179          73  19/05/2021  14/03/1948        1.0   \n",
       "\n",
       "            classi_fin  hospital  uti  evolucao  \n",
       "dt_evoluca                                       \n",
       "2020-04-08         5.0       1.0  2.0       2.0  \n",
       "2020-03-20         5.0       1.0  NaN       2.0  \n",
       "2020-03-29         5.0       1.0  1.0       2.0  \n",
       "2020-04-02         5.0       1.0  1.0       2.0  \n",
       "2020-05-02         5.0       1.0  1.0       2.0  \n",
       "...                ...       ...  ...       ...  \n",
       "2021-05-28         5.0       1.0  1.0       2.0  \n",
       "2021-05-29         5.0       1.0  2.0       2.0  \n",
       "2021-05-19         5.0       1.0  1.0       2.0  \n",
       "2021-05-31         5.0       1.0  1.0       2.0  \n",
       "2021-05-25         5.0       1.0  2.0       2.0  \n",
       "\n",
       "[459127 rows x 9 columns]"
      ]
     },
     "execution_count": 25,
     "metadata": {},
     "output_type": "execute_result"
    }
   ],
   "source": [
    "dados_filtrados.set_index('dt_evoluca')"
   ]
  },
  {
   "cell_type": "markdown",
   "metadata": {},
   "source": [
    "## Verificando a data do último caso de óbito"
   ]
  },
  {
   "cell_type": "code",
   "execution_count": 26,
   "metadata": {},
   "outputs": [
    {
     "data": {
      "text/plain": [
       "459126"
      ]
     },
     "execution_count": 26,
     "metadata": {},
     "output_type": "execute_result"
    }
   ],
   "source": [
    "dados_filtrados.index.max()"
   ]
  },
  {
   "cell_type": "markdown",
   "metadata": {},
   "source": [
    "## Procurando outliers"
   ]
  },
  {
   "cell_type": "code",
   "execution_count": 27,
   "metadata": {},
   "outputs": [],
   "source": [
    "dados_filtrados = dados_filtrados.query('nu_idade_n <= 124')"
   ]
  },
  {
   "cell_type": "code",
   "execution_count": 36,
   "metadata": {
    "scrolled": false
   },
   "outputs": [
    {
     "data": {
      "image/png": "[encoded data removed]",
      "text/plain": [
       "<Figure size 1440x576 with 1 Axes>"
      ]
     },
     "metadata": {},
     "output_type": "display_data"
    }
   ],
   "source": [
    "import seaborn as sns\n",
    "sns.set_palette(\"rocket\")\n",
    "\n",
    "ax = sns.boxplot(data = dados_filtrados, x = 'nu_idade_n' )\n",
    "ax.set_xlabel(\"Idade das pessoas que vieram a óbito desde Março de 2020 até 14 de Junho de 2021\", fontsize = 20)\n",
    "ax.figure.set_size_inches(20,8)\n",
    "sns.set(font_scale = 1.8)"
   ]
  },
  {
   "cell_type": "code",
   "execution_count": 70,
   "metadata": {},
   "outputs": [
    {
     "data": {
      "image/png": "[encoded data removed]",
      "text/plain": [
       "<Figure size 1440x576 with 1 Axes>"
      ]
     },
     "metadata": {},
     "output_type": "display_data"
    }
   ],
   "source": [
    "ax = sns.distplot(dados_filtrados.nu_idade_n, kde = False, \n",
    "                  bins = [i*5 for(i) in range (23)])\n",
    "ax.set_xlabel(\"Idade das pessoas\", \n",
    "              fontsize = 20, position=(0.5,0))\n",
    "ax.set_ylabel(\"Quantidade de pessoas\", \n",
    "              fontsize = 20, position=(0.5,0.5))\n",
    "ax.grid(None)\n",
    "\n",
    "ax.set_title('Distribuição do número de óbitos desde Março de 2020 até 14 de Junho de 2021')\n",
    "\n",
    "ax.figure.set_size_inches(20,8)"
   ]
  },
  {
   "cell_type": "markdown",
   "metadata": {},
   "source": [
    "# Gerando o gráfico 1"
   ]
  },
  {
   "cell_type": "code",
   "execution_count": 123,
   "metadata": {
    "scrolled": true
   },
   "outputs": [],
   "source": [
    "#dados_filtrados = dados_filtrados.sort_values(by= 'dt_evoluca')\n",
    "categories = ['Até 10 anos','De 11 a 20 anos','De 21 a 30 anos',\n",
    "                              'De 31 a 40 anos','De 41 a 50 anos','De 51 a 60 anos',\n",
    "                              'De 61 a 70 anos','De 71 a 80 anos','De 81 a 90 anos','Mais de 90 anos']\n",
    "faixa_idade = [dados_filtrados.nu_idade_n.min(), 10 , 20 , 30 , 40 , 50 , 60 , 70 , 80 , 90, dados_filtrados.nu_idade_n.max()]\n",
    "dados_filtrados['faixa'] = pd.cut(dados_filtrados.nu_idade_n,bins= faixa_idade,labels = categories, include_lowest= True)"
   ]
  },
  {
   "cell_type": "code",
   "execution_count": 124,
   "metadata": {
    "scrolled": true
   },
   "outputs": [],
   "source": [
    "dados_filtrados.index = pd.to_datetime(dados_filtrados['dt_evoluca'],format='%m/%d/%y %I:%M%p')\n",
    "dados_filtrados.faixa.unique();"
   ]
  },
  {
   "cell_type": "code",
   "execution_count": 125,
   "metadata": {},
   "outputs": [],
   "source": [
    "dados_data = dados_filtrados.groupby(pd.Grouper(freq= 'M'))"
   ]
  },
  {
   "cell_type": "code",
   "execution_count": 126,
   "metadata": {
    "scrolled": false
   },
   "outputs": [],
   "source": [
    "dados_data.groups;"
   ]
  },
  {
   "cell_type": "code",
   "execution_count": 127,
   "metadata": {
    "scrolled": true
   },
   "outputs": [],
   "source": [
    "df2003 = dados_data.get_group('2020-03-31')\n",
    "df2004 = dados_data.get_group('2020-04-30')\n",
    "df2005 = dados_data.get_group('2020-05-31')\n",
    "df2006 = dados_data.get_group('2020-06-30')\n",
    "df2007 = dados_data.get_group('2020-07-31')\n",
    "df2008 = dados_data.get_group('2020-08-31')\n",
    "df2009 = dados_data.get_group('2020-09-30')\n",
    "df2010 = dados_data.get_group('2020-10-31')\n",
    "df2011 = dados_data.get_group('2020-11-30')\n",
    "df2012 = dados_data.get_group('2020-12-31')\n",
    "df2101 = dados_data.get_group('2021-01-31')\n",
    "df2102 = dados_data.get_group('2021-02-28')\n",
    "df2103 = dados_data.get_group('2021-03-31')\n",
    "df2104 = dados_data.get_group('2021-04-30')\n",
    "df2105 = dados_data.get_group('2021-05-31')\n",
    "df2106 = dados_data.get_group('2021-06-30')"
   ]
  },
  {
   "cell_type": "code",
   "execution_count": 128,
   "metadata": {
    "scrolled": true
   },
   "outputs": [],
   "source": [
    "todos_meses = [df2003 ,df2004 ,df2005 ,df2006 ,df2007 ,df2008 ,df2009 ,df2010 ,df2011,df2012,df2101,df2102,df2103,df2104,df2105,df2106]\n",
    "\n",
    "for i in range(0,len(todos_meses)):\n",
    "    #print(i)\n",
    "    todos_meses[i] = todos_meses[i].groupby('faixa').nu_idade_n.count()\n"
   ]
  },
  {
   "cell_type": "code",
   "execution_count": 129,
   "metadata": {},
   "outputs": [],
   "source": [
    "for i in range(0,len(todos_meses)):\n",
    "    #print(i)\n",
    "    if i+3 <= 12 :\n",
    "        todos_meses[i].rename('2020 - '+\"%02d\" % (i+3),inplace= True)\n",
    "    else:\n",
    "        todos_meses[i].rename('2021 - '+\"%02d\" % (i-9),inplace= True)"
   ]
  },
  {
   "cell_type": "code",
   "execution_count": 130,
   "metadata": {},
   "outputs": [],
   "source": [
    "de2003_ate2106 = pd.DataFrame()\n",
    "\n",
    "for i in range(0,len(todos_meses)):\n",
    "    de2003_ate2106 = de2003_ate2106.append(todos_meses[i])"
   ]
  },
  {
   "cell_type": "code",
   "execution_count": 131,
   "metadata": {
    "scrolled": true
   },
   "outputs": [],
   "source": [
    "de2003_ate2106 = de2003_ate2106.T"
   ]
  },
  {
   "cell_type": "code",
   "execution_count": 132,
   "metadata": {},
   "outputs": [
    {
     "data": {
      "text/html": [
       "<div>\n",
       "<style scoped>\n",
       "    .dataframe tbody tr th:only-of-type {\n",
       "        vertical-align: middle;\n",
       "    }\n",
       "\n",
       "    .dataframe tbody tr th {\n",
       "        vertical-align: top;\n",
       "    }\n",
       "\n",
       "    .dataframe thead th {\n",
       "        text-align: right;\n",
       "    }\n",
       "</style>\n",
       "<table border=\"1\" class=\"dataframe\">\n",
       "  <thead>\n",
       "    <tr style=\"text-align: right;\">\n",
       "      <th></th>\n",
       "      <th>2020 - 03</th>\n",
       "      <th>2020 - 04</th>\n",
       "      <th>2020 - 05</th>\n",
       "      <th>2020 - 06</th>\n",
       "      <th>2020 - 07</th>\n",
       "      <th>2020 - 08</th>\n",
       "      <th>2020 - 09</th>\n",
       "      <th>2020 - 10</th>\n",
       "      <th>2020 - 11</th>\n",
       "      <th>2020 - 12</th>\n",
       "      <th>2021 - 01</th>\n",
       "      <th>2021 - 02</th>\n",
       "      <th>2021 - 03</th>\n",
       "      <th>2021 - 04</th>\n",
       "      <th>2021 - 05</th>\n",
       "      <th>2021 - 06</th>\n",
       "    </tr>\n",
       "  </thead>\n",
       "  <tbody>\n",
       "    <tr>\n",
       "      <th>Até 10 anos</th>\n",
       "      <td>7.0</td>\n",
       "      <td>38.0</td>\n",
       "      <td>140.0</td>\n",
       "      <td>99.0</td>\n",
       "      <td>97.0</td>\n",
       "      <td>64.0</td>\n",
       "      <td>43.0</td>\n",
       "      <td>40.0</td>\n",
       "      <td>35.0</td>\n",
       "      <td>64.0</td>\n",
       "      <td>73.0</td>\n",
       "      <td>60.0</td>\n",
       "      <td>106.0</td>\n",
       "      <td>106.0</td>\n",
       "      <td>75.0</td>\n",
       "      <td>23.0</td>\n",
       "    </tr>\n",
       "    <tr>\n",
       "      <th>De 11 a 20 anos</th>\n",
       "      <td>4.0</td>\n",
       "      <td>49.0</td>\n",
       "      <td>122.0</td>\n",
       "      <td>92.0</td>\n",
       "      <td>85.0</td>\n",
       "      <td>66.0</td>\n",
       "      <td>53.0</td>\n",
       "      <td>56.0</td>\n",
       "      <td>37.0</td>\n",
       "      <td>56.0</td>\n",
       "      <td>65.0</td>\n",
       "      <td>59.0</td>\n",
       "      <td>145.0</td>\n",
       "      <td>136.0</td>\n",
       "      <td>128.0</td>\n",
       "      <td>30.0</td>\n",
       "    </tr>\n",
       "    <tr>\n",
       "      <th>De 21 a 30 anos</th>\n",
       "      <td>8.0</td>\n",
       "      <td>158.0</td>\n",
       "      <td>399.0</td>\n",
       "      <td>346.0</td>\n",
       "      <td>331.0</td>\n",
       "      <td>274.0</td>\n",
       "      <td>207.0</td>\n",
       "      <td>155.0</td>\n",
       "      <td>135.0</td>\n",
       "      <td>227.0</td>\n",
       "      <td>303.0</td>\n",
       "      <td>360.0</td>\n",
       "      <td>1072.0</td>\n",
       "      <td>1082.0</td>\n",
       "      <td>847.0</td>\n",
       "      <td>324.0</td>\n",
       "    </tr>\n",
       "    <tr>\n",
       "      <th>De 31 a 40 anos</th>\n",
       "      <td>45.0</td>\n",
       "      <td>541.0</td>\n",
       "      <td>1226.0</td>\n",
       "      <td>1067.0</td>\n",
       "      <td>1034.0</td>\n",
       "      <td>745.0</td>\n",
       "      <td>523.0</td>\n",
       "      <td>427.0</td>\n",
       "      <td>412.0</td>\n",
       "      <td>721.0</td>\n",
       "      <td>988.0</td>\n",
       "      <td>1067.0</td>\n",
       "      <td>3620.0</td>\n",
       "      <td>3742.0</td>\n",
       "      <td>3043.0</td>\n",
       "      <td>1052.0</td>\n",
       "    </tr>\n",
       "    <tr>\n",
       "      <th>De 41 a 50 anos</th>\n",
       "      <td>50.0</td>\n",
       "      <td>1214.0</td>\n",
       "      <td>2486.0</td>\n",
       "      <td>2098.0</td>\n",
       "      <td>2118.0</td>\n",
       "      <td>1715.0</td>\n",
       "      <td>1200.0</td>\n",
       "      <td>861.0</td>\n",
       "      <td>768.0</td>\n",
       "      <td>1499.0</td>\n",
       "      <td>1981.0</td>\n",
       "      <td>2200.0</td>\n",
       "      <td>7297.0</td>\n",
       "      <td>7563.0</td>\n",
       "      <td>6116.0</td>\n",
       "      <td>2106.0</td>\n",
       "    </tr>\n",
       "    <tr>\n",
       "      <th>De 51 a 60 anos</th>\n",
       "      <td>86.0</td>\n",
       "      <td>2008.0</td>\n",
       "      <td>4825.0</td>\n",
       "      <td>3919.0</td>\n",
       "      <td>4188.0</td>\n",
       "      <td>3451.0</td>\n",
       "      <td>2413.0</td>\n",
       "      <td>1693.0</td>\n",
       "      <td>1671.0</td>\n",
       "      <td>3198.0</td>\n",
       "      <td>4092.0</td>\n",
       "      <td>4130.0</td>\n",
       "      <td>12511.0</td>\n",
       "      <td>13045.0</td>\n",
       "      <td>10632.0</td>\n",
       "      <td>3441.0</td>\n",
       "    </tr>\n",
       "    <tr>\n",
       "      <th>De 61 a 70 anos</th>\n",
       "      <td>175.0</td>\n",
       "      <td>3052.0</td>\n",
       "      <td>7731.0</td>\n",
       "      <td>6620.0</td>\n",
       "      <td>7033.0</td>\n",
       "      <td>6117.0</td>\n",
       "      <td>4351.0</td>\n",
       "      <td>3251.0</td>\n",
       "      <td>3234.0</td>\n",
       "      <td>5941.0</td>\n",
       "      <td>7403.0</td>\n",
       "      <td>6976.0</td>\n",
       "      <td>18956.0</td>\n",
       "      <td>19210.0</td>\n",
       "      <td>11604.0</td>\n",
       "      <td>2177.0</td>\n",
       "    </tr>\n",
       "    <tr>\n",
       "      <th>De 71 a 80 anos</th>\n",
       "      <td>169.0</td>\n",
       "      <td>2937.0</td>\n",
       "      <td>8287.0</td>\n",
       "      <td>7433.0</td>\n",
       "      <td>7755.0</td>\n",
       "      <td>6895.0</td>\n",
       "      <td>5020.0</td>\n",
       "      <td>3649.0</td>\n",
       "      <td>3703.0</td>\n",
       "      <td>6629.0</td>\n",
       "      <td>8330.0</td>\n",
       "      <td>7151.0</td>\n",
       "      <td>17939.0</td>\n",
       "      <td>15213.0</td>\n",
       "      <td>6630.0</td>\n",
       "      <td>1597.0</td>\n",
       "    </tr>\n",
       "    <tr>\n",
       "      <th>De 81 a 90 anos</th>\n",
       "      <td>133.0</td>\n",
       "      <td>2127.0</td>\n",
       "      <td>6030.0</td>\n",
       "      <td>5507.0</td>\n",
       "      <td>5869.0</td>\n",
       "      <td>5049.0</td>\n",
       "      <td>3837.0</td>\n",
       "      <td>2653.0</td>\n",
       "      <td>2729.0</td>\n",
       "      <td>5080.0</td>\n",
       "      <td>5956.0</td>\n",
       "      <td>5141.0</td>\n",
       "      <td>10326.0</td>\n",
       "      <td>6257.0</td>\n",
       "      <td>3960.0</td>\n",
       "      <td>1287.0</td>\n",
       "    </tr>\n",
       "    <tr>\n",
       "      <th>Mais de 90 anos</th>\n",
       "      <td>38.0</td>\n",
       "      <td>583.0</td>\n",
       "      <td>1719.0</td>\n",
       "      <td>1611.0</td>\n",
       "      <td>1606.0</td>\n",
       "      <td>1401.0</td>\n",
       "      <td>941.0</td>\n",
       "      <td>744.0</td>\n",
       "      <td>770.0</td>\n",
       "      <td>1367.0</td>\n",
       "      <td>1608.0</td>\n",
       "      <td>1358.0</td>\n",
       "      <td>2259.0</td>\n",
       "      <td>1356.0</td>\n",
       "      <td>1067.0</td>\n",
       "      <td>280.0</td>\n",
       "    </tr>\n",
       "  </tbody>\n",
       "</table>\n",
       "</div>"
      ],
      "text/plain": [
       "                 2020 - 03  2020 - 04  2020 - 05  2020 - 06  2020 - 07  \\\n",
       "Até 10 anos            7.0       38.0      140.0       99.0       97.0   \n",
       "De 11 a 20 anos        4.0       49.0      122.0       92.0       85.0   \n",
       "De 21 a 30 anos        8.0      158.0      399.0      346.0      331.0   \n",
       "De 31 a 40 anos       45.0      541.0     1226.0     1067.0     1034.0   \n",
       "De 41 a 50 anos       50.0     1214.0     2486.0     2098.0     2118.0   \n",
       "De 51 a 60 anos       86.0     2008.0     4825.0     3919.0     4188.0   \n",
       "De 61 a 70 anos      175.0     3052.0     7731.0     6620.0     7033.0   \n",
       "De 71 a 80 anos      169.0     2937.0     8287.0     7433.0     7755.0   \n",
       "De 81 a 90 anos      133.0     2127.0     6030.0     5507.0     5869.0   \n",
       "Mais de 90 anos       38.0      583.0     1719.0     1611.0     1606.0   \n",
       "\n",
       "                 2020 - 08  2020 - 09  2020 - 10  2020 - 11  2020 - 12  \\\n",
       "Até 10 anos           64.0       43.0       40.0       35.0       64.0   \n",
       "De 11 a 20 anos       66.0       53.0       56.0       37.0       56.0   \n",
       "De 21 a 30 anos      274.0      207.0      155.0      135.0      227.0   \n",
       "De 31 a 40 anos      745.0      523.0      427.0      412.0      721.0   \n",
       "De 41 a 50 anos     1715.0     1200.0      861.0      768.0     1499.0   \n",
       "De 51 a 60 anos     3451.0     2413.0     1693.0     1671.0     3198.0   \n",
       "De 61 a 70 anos     6117.0     4351.0     3251.0     3234.0     5941.0   \n",
       "De 71 a 80 anos     6895.0     5020.0     3649.0     3703.0     6629.0   \n",
       "De 81 a 90 anos     5049.0     3837.0     2653.0     2729.0     5080.0   \n",
       "Mais de 90 anos     1401.0      941.0      744.0      770.0     1367.0   \n",
       "\n",
       "                 2021 - 01  2021 - 02  2021 - 03  2021 - 04  2021 - 05  \\\n",
       "Até 10 anos           73.0       60.0      106.0      106.0       75.0   \n",
       "De 11 a 20 anos       65.0       59.0      145.0      136.0      128.0   \n",
       "De 21 a 30 anos      303.0      360.0     1072.0     1082.0      847.0   \n",
       "De 31 a 40 anos      988.0     1067.0     3620.0     3742.0     3043.0   \n",
       "De 41 a 50 anos     1981.0     2200.0     7297.0     7563.0     6116.0   \n",
       "De 51 a 60 anos     4092.0     4130.0    12511.0    13045.0    10632.0   \n",
       "De 61 a 70 anos     7403.0     6976.0    18956.0    19210.0    11604.0   \n",
       "De 71 a 80 anos     8330.0     7151.0    17939.0    15213.0     6630.0   \n",
       "De 81 a 90 anos     5956.0     5141.0    10326.0     6257.0     3960.0   \n",
       "Mais de 90 anos     1608.0     1358.0     2259.0     1356.0     1067.0   \n",
       "\n",
       "                 2021 - 06  \n",
       "Até 10 anos           23.0  \n",
       "De 11 a 20 anos       30.0  \n",
       "De 21 a 30 anos      324.0  \n",
       "De 31 a 40 anos     1052.0  \n",
       "De 41 a 50 anos     2106.0  \n",
       "De 51 a 60 anos     3441.0  \n",
       "De 61 a 70 anos     2177.0  \n",
       "De 71 a 80 anos     1597.0  \n",
       "De 81 a 90 anos     1287.0  \n",
       "Mais de 90 anos      280.0  "
      ]
     },
     "execution_count": 132,
     "metadata": {},
     "output_type": "execute_result"
    }
   ],
   "source": [
    "de2003_ate2106"
   ]
  },
  {
   "cell_type": "code",
   "execution_count": 133,
   "metadata": {},
   "outputs": [],
   "source": [
    "de2003_ate2106_porcentagem = pd.DataFrame()\n",
    "\n",
    "for mes in de2003_ate2106:\n",
    "    de2003_ate2106_porcentagem[str(mes)] = (de2003_ate2106[mes].values/de2003_ate2106[mes].values.sum())\n",
    "\n",
    "de2003_ate2106_porcentagem.index = de2003_ate2106.index"
   ]
  },
  {
   "cell_type": "code",
   "execution_count": 134,
   "metadata": {
    "scrolled": false
   },
   "outputs": [
    {
     "name": "stderr",
     "output_type": "stream",
     "text": [
      "<ipython-input-134-1e3933c2b798>:5: UserWarning: FixedFormatter should only be used together with FixedLocator\n",
      "  ax.set_yticklabels(['0%' , '20%', '40%' , '60%', '80%', '100%'])\n"
     ]
    },
    {
     "data": {
      "text/plain": [
       "Text(0.5, 0, 'Ano-mês')"
      ]
     },
     "execution_count": 134,
     "metadata": {},
     "output_type": "execute_result"
    },
    {
     "data": {
      "image/png": "[encoded data removed]",
      "text/plain": [
       "<Figure size 1440x576 with 1 Axes>"
      ]
     },
     "metadata": {},
     "output_type": "display_data"
    }
   ],
   "source": [
    "sns.set_palette(\"Paired\")\n",
    "\n",
    "ax = de2003_ate2106_porcentagem.T.plot(kind= 'bar' , stacked= True, figsize= (20,8),fontsize =20)\n",
    "ax.legend(bbox_to_anchor=(1.05, 1), loc=2, borderaxespad=0., fontsize = 20)\n",
    "ax.set_yticklabels(['0%' , '20%', '40%' , '60%', '80%', '100%'])\n",
    "ax.set_ylabel(\"Proporção\",fontsize=25)\n",
    "ax.set_title(\"Proporção de óbitos de cada faixa etária\", fontsize = 30)\n",
    "ax.set_xticklabels(de2003_ate2106.columns, rotation=30)\n",
    "ax.set_xlabel(\"Ano-mês\",fontsize=25)"
   ]
  },
  {
   "cell_type": "markdown",
   "metadata": {},
   "source": [
    "# Gerando o Gráfico 2"
   ]
  },
  {
   "cell_type": "code",
   "execution_count": 95,
   "metadata": {},
   "outputs": [],
   "source": [
    "faixa_idade = [dados_filtrados.nu_idade_n.min(), 60 , dados_filtrados.nu_idade_n.max()]\n",
    "conteudo = ['Até 60 anos' , 'Mais de 61 anos']\n",
    "dados_filtrados['faixa'] = pd.cut(dados_filtrados.nu_idade_n,bins= faixa_idade, labels = conteudo, include_lowest= True)"
   ]
  },
  {
   "cell_type": "code",
   "execution_count": 96,
   "metadata": {},
   "outputs": [
    {
     "data": {
      "text/plain": [
       "['Mais de 61 anos', 'Até 60 anos']\n",
       "Categories (2, object): ['Até 60 anos' < 'Mais de 61 anos']"
      ]
     },
     "execution_count": 96,
     "metadata": {},
     "output_type": "execute_result"
    }
   ],
   "source": [
    "dados_filtrados.index = pd.to_datetime(dados_filtrados['dt_evoluca'],format='%m/%d/%y %I:%M%p')\n",
    "dados_filtrados.faixa.unique()"
   ]
  },
  {
   "cell_type": "code",
   "execution_count": 97,
   "metadata": {},
   "outputs": [],
   "source": [
    "dados_data = dados_filtrados.groupby(pd.Grouper(freq= 'M'))"
   ]
  },
  {
   "cell_type": "code",
   "execution_count": 98,
   "metadata": {},
   "outputs": [],
   "source": [
    "dados_data.groups;"
   ]
  },
  {
   "cell_type": "code",
   "execution_count": 99,
   "metadata": {},
   "outputs": [],
   "source": [
    "df2003 = dados_data.get_group('2020-03-31')\n",
    "df2004 = dados_data.get_group('2020-04-30')\n",
    "df2005 = dados_data.get_group('2020-05-31')\n",
    "df2006 = dados_data.get_group('2020-06-30')\n",
    "df2007 = dados_data.get_group('2020-07-31')\n",
    "df2008 = dados_data.get_group('2020-08-31')\n",
    "df2009 = dados_data.get_group('2020-09-30')\n",
    "df2010 = dados_data.get_group('2020-10-31')\n",
    "df2011 = dados_data.get_group('2020-11-30')\n",
    "df2012 = dados_data.get_group('2020-12-31')\n",
    "df2101 = dados_data.get_group('2021-01-31')\n",
    "df2102 = dados_data.get_group('2021-02-28')\n",
    "df2103 = dados_data.get_group('2021-03-31')\n",
    "df2104 = dados_data.get_group('2021-04-30')\n",
    "df2105 = dados_data.get_group('2021-05-31')\n",
    "df2106 = dados_data.get_group('2021-06-30')"
   ]
  },
  {
   "cell_type": "code",
   "execution_count": 100,
   "metadata": {},
   "outputs": [],
   "source": [
    "todos_meses = [df2003 ,df2004 ,df2005 ,df2006 ,df2007 ,df2008 ,df2009 ,df2010 ,df2011,df2012,df2101,df2102,df2103,df2104,df2105,df2106]\n",
    "\n",
    "for i in range(0,len(todos_meses)):\n",
    "    #print(i)\n",
    "    todos_meses[i] = todos_meses[i].groupby('faixa').nu_idade_n.count()\n"
   ]
  },
  {
   "cell_type": "code",
   "execution_count": 101,
   "metadata": {},
   "outputs": [],
   "source": [
    "for i in range(0,len(todos_meses)):\n",
    "    #print(i)\n",
    "    if i+3 <= 12 :\n",
    "        todos_meses[i].rename('2020 - '+\"%02d\" % (i+3),inplace= True)\n",
    "    else:\n",
    "        todos_meses[i].rename('2021 - '+\"%02d\" % (i-9),inplace= True)"
   ]
  },
  {
   "cell_type": "code",
   "execution_count": 102,
   "metadata": {},
   "outputs": [],
   "source": [
    "de2003_ate2106 = pd.DataFrame()\n",
    "\n",
    "for i in range(0,len(todos_meses)):\n",
    "    de2003_ate2106 = de2003_ate2106.append(todos_meses[i])"
   ]
  },
  {
   "cell_type": "code",
   "execution_count": 103,
   "metadata": {},
   "outputs": [],
   "source": [
    "de2003_ate2106 = de2003_ate2106.T"
   ]
  },
  {
   "cell_type": "code",
   "execution_count": 104,
   "metadata": {},
   "outputs": [
    {
     "data": {
      "text/html": [
       "<div>\n",
       "<style scoped>\n",
       "    .dataframe tbody tr th:only-of-type {\n",
       "        vertical-align: middle;\n",
       "    }\n",
       "\n",
       "    .dataframe tbody tr th {\n",
       "        vertical-align: top;\n",
       "    }\n",
       "\n",
       "    .dataframe thead th {\n",
       "        text-align: right;\n",
       "    }\n",
       "</style>\n",
       "<table border=\"1\" class=\"dataframe\">\n",
       "  <thead>\n",
       "    <tr style=\"text-align: right;\">\n",
       "      <th></th>\n",
       "      <th>2020 - 03</th>\n",
       "      <th>2020 - 04</th>\n",
       "      <th>2020 - 05</th>\n",
       "      <th>2020 - 06</th>\n",
       "      <th>2020 - 07</th>\n",
       "      <th>2020 - 08</th>\n",
       "      <th>2020 - 09</th>\n",
       "      <th>2020 - 10</th>\n",
       "      <th>2020 - 11</th>\n",
       "      <th>2020 - 12</th>\n",
       "      <th>2021 - 01</th>\n",
       "      <th>2021 - 02</th>\n",
       "      <th>2021 - 03</th>\n",
       "      <th>2021 - 04</th>\n",
       "      <th>2021 - 05</th>\n",
       "      <th>2021 - 06</th>\n",
       "    </tr>\n",
       "  </thead>\n",
       "  <tbody>\n",
       "    <tr>\n",
       "      <th>Até 60 anos</th>\n",
       "      <td>200.0</td>\n",
       "      <td>4008.0</td>\n",
       "      <td>9198.0</td>\n",
       "      <td>7621.0</td>\n",
       "      <td>7853.0</td>\n",
       "      <td>6315.0</td>\n",
       "      <td>4439.0</td>\n",
       "      <td>3232.0</td>\n",
       "      <td>3058.0</td>\n",
       "      <td>5765.0</td>\n",
       "      <td>7502.0</td>\n",
       "      <td>7876.0</td>\n",
       "      <td>24751.0</td>\n",
       "      <td>25674.0</td>\n",
       "      <td>20841.0</td>\n",
       "      <td>6976.0</td>\n",
       "    </tr>\n",
       "    <tr>\n",
       "      <th>Mais de 61 anos</th>\n",
       "      <td>515.0</td>\n",
       "      <td>8699.0</td>\n",
       "      <td>23767.0</td>\n",
       "      <td>21171.0</td>\n",
       "      <td>22263.0</td>\n",
       "      <td>19462.0</td>\n",
       "      <td>14149.0</td>\n",
       "      <td>10297.0</td>\n",
       "      <td>10436.0</td>\n",
       "      <td>19017.0</td>\n",
       "      <td>23297.0</td>\n",
       "      <td>20626.0</td>\n",
       "      <td>49480.0</td>\n",
       "      <td>42036.0</td>\n",
       "      <td>23261.0</td>\n",
       "      <td>5341.0</td>\n",
       "    </tr>\n",
       "  </tbody>\n",
       "</table>\n",
       "</div>"
      ],
      "text/plain": [
       "                 2020 - 03  2020 - 04  2020 - 05  2020 - 06  2020 - 07  \\\n",
       "Até 60 anos          200.0     4008.0     9198.0     7621.0     7853.0   \n",
       "Mais de 61 anos      515.0     8699.0    23767.0    21171.0    22263.0   \n",
       "\n",
       "                 2020 - 08  2020 - 09  2020 - 10  2020 - 11  2020 - 12  \\\n",
       "Até 60 anos         6315.0     4439.0     3232.0     3058.0     5765.0   \n",
       "Mais de 61 anos    19462.0    14149.0    10297.0    10436.0    19017.0   \n",
       "\n",
       "                 2021 - 01  2021 - 02  2021 - 03  2021 - 04  2021 - 05  \\\n",
       "Até 60 anos         7502.0     7876.0    24751.0    25674.0    20841.0   \n",
       "Mais de 61 anos    23297.0    20626.0    49480.0    42036.0    23261.0   \n",
       "\n",
       "                 2021 - 06  \n",
       "Até 60 anos         6976.0  \n",
       "Mais de 61 anos     5341.0  "
      ]
     },
     "execution_count": 104,
     "metadata": {},
     "output_type": "execute_result"
    }
   ],
   "source": [
    "de2003_ate2106"
   ]
  },
  {
   "cell_type": "code",
   "execution_count": 105,
   "metadata": {},
   "outputs": [],
   "source": [
    "de2003_ate2106_porcentagem = pd.DataFrame()\n",
    "\n",
    "for mes in de2003_ate2106:\n",
    "    de2003_ate2106_porcentagem[str(mes)] = (de2003_ate2106[mes].values/de2003_ate2106[mes].values.sum())\n",
    "\n",
    "de2003_ate2106_porcentagem.index = de2003_ate2106.index"
   ]
  },
  {
   "cell_type": "code",
   "execution_count": 122,
   "metadata": {},
   "outputs": [
    {
     "name": "stderr",
     "output_type": "stream",
     "text": [
      "<ipython-input-122-f9c0e4aa9742>:3: UserWarning: FixedFormatter should only be used together with FixedLocator\n",
      "  ax.set_yticklabels(['0%' , '20%', '40%' , '60%', '80%', '100%'])\n"
     ]
    },
    {
     "data": {
      "text/plain": [
       "Text(0.5, 0, 'Ano-mês')"
      ]
     },
     "execution_count": 122,
     "metadata": {},
     "output_type": "execute_result"
    },
    {
     "data": {
      "image/png": "[encoded data removed]",
      "text/plain": [
       "<Figure size 1440x576 with 1 Axes>"
      ]
     },
     "metadata": {},
     "output_type": "display_data"
    }
   ],
   "source": [
    "ax = de2003_ate2106_porcentagem.T.plot(kind= 'bar' , stacked= True, figsize= (20,8), fontsize =20)\n",
    "ax.legend(bbox_to_anchor=(1.05, 1), loc=2, borderaxespad=0., fontsize = 20)\n",
    "ax.set_yticklabels(['0%' , '20%', '40%' , '60%', '80%', '100%'])\n",
    "ax.set_ylabel(\"Proporção\")\n",
    "ax.set_title(\"Proporção de óbitos da faixa etária mais vulnerável (acima de 60 anos) \\ne menos vulnerável (até 60 anos)\", fontsize = 30)\n",
    "ax.set_xticklabels(de2003_ate2106.columns, rotation=30)\n",
    "ax.set_xlabel(\"Ano-mês\",fontsize=25)"
   ]
  },
  {
   "cell_type": "code",
   "execution_count": null,
   "metadata": {},
   "outputs": [],
   "source": []
  }
 ],
 "metadata": {
  "kernelspec": {
   "display_name": "Python 3",
   "language": "python",
   "name": "python3"
  },
  "language_info": {
   "codemirror_mode": {
    "name": "ipython",
    "version": 3
   },
   "file_extension": ".py",
   "mimetype": "text/x-python",
   "name": "python",
   "nbconvert_exporter": "python",
   "pygments_lexer": "ipython3",
   "version": "3.8.5"
  }
 },
 "nbformat": 4,
 "nbformat_minor": 4
}
